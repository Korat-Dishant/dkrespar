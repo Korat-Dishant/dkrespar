{
 "cells": [
  {
   "cell_type": "code",
   "execution_count": 2,
   "id": "35e47ba8",
   "metadata": {},
   "outputs": [],
   "source": [
    "from pdf_to_text import read_pdf\n",
    "from docx_to_text import read_docx\n",
    "import os\n",
    "\n",
    "path = \"C:/Users/korat/Desktop/sigma2/resExtractor/dkrespar/del_exampleres/Korat Dishant resume (DS).docx\"\n",
    "\n",
    "\n",
    "file_name, file_extension = os.path.splitext(path)\n",
    "\n",
    "if file_extension == \".pdf\":\n",
    "    text = read_pdf(path)\n",
    "if file_extension == \".docx\":\n",
    "    text = read_docx(path)\n"
   ]
  },
  {
   "cell_type": "code",
   "execution_count": 6,
   "id": "22716201",
   "metadata": {},
   "outputs": [],
   "source": [
    "import spacy \n",
    "from spacy import displacy\n",
    "import pandas as pd"
   ]
  },
  {
   "cell_type": "code",
   "execution_count": null,
   "id": "fe4ec706",
   "metadata": {},
   "outputs": [],
   "source": [
    "df = pd.read_csv(\"data/skills.csv\")\n",
    "skl = list(df.columns)"
   ]
  },
  {
   "cell_type": "code",
   "execution_count": null,
   "id": "9dd53a11",
   "metadata": {},
   "outputs": [],
   "source": [
    "nlp = spacy.blank(\"en\")\n",
    "\n",
    "ruler = nlp.add_pipe(\"entity_ruler\")\n",
    "patterns = []\n",
    "\n",
    "for skill in skl:\n",
    "    patterns.append({\"label\": \"SKILL\", \"pattern\": skill})\n",
    "\n",
    "ruler.add_patterns(patterns)\n",
    "\n",
    "print (len(patterns))"
   ]
  },
  {
   "cell_type": "code",
   "execution_count": null,
   "id": "533aa667",
   "metadata": {},
   "outputs": [],
   "source": [
    "doc = nlp(text.lower())\n",
    "displacy.render(doc, style=\"ent\")"
   ]
  }
 ],
 "metadata": {
  "kernelspec": {
   "display_name": "Python 3 (ipykernel)",
   "language": "python",
   "name": "python3"
  },
  "language_info": {
   "codemirror_mode": {
    "name": "ipython",
    "version": 3
   },
   "file_extension": ".py",
   "mimetype": "text/x-python",
   "name": "python",
   "nbconvert_exporter": "python",
   "pygments_lexer": "ipython3",
   "version": "3.10.10"
  }
 },
 "nbformat": 4,
 "nbformat_minor": 5
}
